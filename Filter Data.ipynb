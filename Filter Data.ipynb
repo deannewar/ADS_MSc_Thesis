{
 "cells": [
  {
   "cell_type": "markdown",
   "metadata": {},
   "source": [
    "# MSC Thesis Applied Data Science - Filtering Tweets"
   ]
  },
  {
   "cell_type": "markdown",
   "metadata": {},
   "source": [
    "## Initialisation"
   ]
  },
  {
   "cell_type": "code",
   "execution_count": null,
   "metadata": {},
   "outputs": [],
   "source": [
    "# Import modules\n",
    "import pandas as pd\n",
    "import numpy as np\n",
    "from datetime import timedelta"
   ]
  },
  {
   "cell_type": "markdown",
   "metadata": {},
   "source": [
    "## Define Function for filtering"
   ]
  },
  {
   "cell_type": "code",
   "execution_count": null,
   "metadata": {},
   "outputs": [],
   "source": [
    "def filter_telegram_data_on_dates_and_keywords(dataset_path, date_keywords_dict, output_path, chunksize=100000):\n",
    "    # Define the number of days before and after each date\n",
    "    days_before = 20\n",
    "    days_after = 5\n",
    "\n",
    "    # Initialize a list to store DataFrames for each date\n",
    "    filtered_dataframes = []\n",
    "\n",
    "    for target_date_str, keywords in date_keywords_dict.items():\n",
    "        target_date = pd.to_datetime(target_date_str)\n",
    "        start_date = target_date - timedelta(days=days_before)\n",
    "        end_date = target_date + timedelta(days=days_after)\n",
    "        print(f'Filtering data for target date: {target_date} with keywords: {keywords}')\n",
    "\n",
    "        # Compile the keywords into a regex pattern\n",
    "        keyword_pattern = '|'.join(keywords)\n",
    "\n",
    "        # Initialize a DataFrame to collect filtered data for the current date\n",
    "        date_df = pd.DataFrame(columns=['id', 'body', 'date'])\n",
    "\n",
    "        for chunk in pd.read_csv(dataset_path, chunksize=chunksize, delimiter=';'):\n",
    "            chunk['date'] = pd.to_datetime(chunk['date'], errors='coerce')  # Ensure date conversion\n",
    "            chunk = chunk.dropna(subset=['date'])  # Drop rows where date conversion failed\n",
    "\n",
    "            # Filter the chunk for the specified date range, where is_retweet is 'no', and body contains keywords\n",
    "            filtered_chunk = chunk[\n",
    "                (chunk['date'] >= start_date) &\n",
    "                (chunk['date'] <= end_date) &\n",
    "                (chunk['body'].str.contains(keyword_pattern, case=False, na=False))\n",
    "            ]\n",
    "\n",
    "            # Append filtered chunk to date_df\n",
    "            if not filtered_chunk.empty:\n",
    "                date_df = pd.concat([date_df, filtered_chunk[['id', 'body', 'date']]])\n",
    "\n",
    "        # Remove duplicates\n",
    "        date_df = date_df.drop_duplicates(subset=\"id\")\n",
    "\n",
    "        # Append the filtered data for the current date to the list\n",
    "        filtered_dataframes.append(date_df)\n",
    "\n",
    "        # Optionally save each date's data to a separate file\n",
    "        output_file = f'{output_path}/filtered_data_{target_date.date()}.csv'\n",
    "        date_df.to_csv(output_file, index=False)\n",
    "\n",
    "    # Concatenate all the filtered DataFrames into one final DataFrame\n",
    "    final_df = pd.concat(filtered_dataframes, ignore_index=True)\n",
    "\n",
    "    # Save the final concatenated DataFrame\n",
    "    final_output_file = f'{output_path}/filtered_data_all_dates.csv'\n",
    "    final_df.to_csv(final_output_file, index=False)\n",
    "\n",
    "    return final_df"
   ]
  },
  {
   "cell_type": "markdown",
   "metadata": {},
   "source": [
    "## Filtering"
   ]
  },
  {
   "cell_type": "code",
   "execution_count": null,
   "metadata": {},
   "outputs": [],
   "source": [
    "dataset_path = '/path/to/dataset'\n",
    "output_path = '/path/to/output/dataset'\n",
    "\n",
    "# Define incidents and keywords\n",
    "date_keywords_dict = {\n",
    "    '2021-07-15': ['Geert Wilders', '@geertwilderspvv', 'wilders'],\n",
    "    '2022-01-05': ['Sigrid Kaag', '@SigridKaag', 'kaag'],\n",
    "    '2022-07-06': ['Christianne van der Wal', 'Christianne van der Wal-Zeggelink', '@MinisterNenS', 'van der Wal', 'Zeggelink'],\n",
    "    '2022-06-15': ['Dilan Yeşilgöz', 'Dilan Yesilgoz', '@DilanYesilgoz', 'Yesilgoz'],\n",
    "    '2021-11-02': ['Mark Rutte', 'Hugo de Jonge', 'Rutte', 'de Jonge', '@MinPres', '@hugodejonge' ],\n",
    "    '2021-10-06': ['Mark Rutte', 'Rutte', '@MinPres' ],\n",
    "    '2021-01-10': [ 'Hugo de Jonge', 'de Jonge', '@hugodejonge' ],\n",
    "    '2021-05-15': [ 'Hugo de Jonge', 'de Jonge', '@hugodejonge', 'Mark Rutte', 'Rutte', '@MinPres', 'Jaap van Dissel', 'van Dissel', '@RIVM_vDissel' ]\n",
    "    }\n",
    "\n",
    "filtered_df = filter_telegram_data_on_dates_and_keywords(dataset_path, date_keywords_dict, output_path)\n",
    "print(filtered_df.head())"
   ]
  }
 ],
 "metadata": {
  "kernelspec": {
   "display_name": "Python 3",
   "language": "python",
   "name": "python3"
  },
  "language_info": {
   "name": "python",
   "version": "3.13.0"
  }
 },
 "nbformat": 4,
 "nbformat_minor": 2
}
